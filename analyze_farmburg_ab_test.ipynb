{
 "cells": [
  {
   "cell_type": "markdown",
   "id": "1f4b4531",
   "metadata": {},
   "source": [
    "# Farmburg A/B Test Analysis\n",
    "\n",
    "## Project Overview\n",
    "\n",
    "In this project, we analyze the results of an A/B test conducted by Farmburg, a farming simulation social network game. The primary objective is to determine the optimal price point for a new microtransaction feature by evaluating user purchase behavior across three different price points."
   ]
  },
  {
   "cell_type": "code",
   "execution_count": 68,
   "id": "d19b0a42",
   "metadata": {},
   "outputs": [],
   "source": [
    "import pandas as pd\n",
    "from scipy.stats import chi2_contingency, binom_test\n",
    "import warnings\n",
    "\n",
    "# Suppress deprecation warnings\n",
    "warnings.filterwarnings(\"ignore\", category=DeprecationWarning)"
   ]
  },
  {
   "cell_type": "markdown",
   "id": "1016966b",
   "metadata": {},
   "source": [
    "## Loading and Inspecting the Data"
   ]
  },
  {
   "cell_type": "code",
   "execution_count": 71,
   "id": "8fe4f8b1",
   "metadata": {},
   "outputs": [
    {
     "data": {
      "text/html": [
       "<div>\n",
       "<style scoped>\n",
       "    .dataframe tbody tr th:only-of-type {\n",
       "        vertical-align: middle;\n",
       "    }\n",
       "\n",
       "    .dataframe tbody tr th {\n",
       "        vertical-align: top;\n",
       "    }\n",
       "\n",
       "    .dataframe thead th {\n",
       "        text-align: right;\n",
       "    }\n",
       "</style>\n",
       "<table border=\"1\" class=\"dataframe\">\n",
       "  <thead>\n",
       "    <tr style=\"text-align: right;\">\n",
       "      <th></th>\n",
       "      <th>user_id</th>\n",
       "      <th>group</th>\n",
       "      <th>is_purchase</th>\n",
       "    </tr>\n",
       "  </thead>\n",
       "  <tbody>\n",
       "    <tr>\n",
       "      <th>0</th>\n",
       "      <td>8e27bf9a</td>\n",
       "      <td>A</td>\n",
       "      <td>No</td>\n",
       "    </tr>\n",
       "    <tr>\n",
       "      <th>1</th>\n",
       "      <td>eb89e6f0</td>\n",
       "      <td>A</td>\n",
       "      <td>No</td>\n",
       "    </tr>\n",
       "    <tr>\n",
       "      <th>2</th>\n",
       "      <td>7119106a</td>\n",
       "      <td>A</td>\n",
       "      <td>No</td>\n",
       "    </tr>\n",
       "    <tr>\n",
       "      <th>3</th>\n",
       "      <td>e53781ff</td>\n",
       "      <td>A</td>\n",
       "      <td>No</td>\n",
       "    </tr>\n",
       "    <tr>\n",
       "      <th>4</th>\n",
       "      <td>02d48cf1</td>\n",
       "      <td>A</td>\n",
       "      <td>Yes</td>\n",
       "    </tr>\n",
       "  </tbody>\n",
       "</table>\n",
       "</div>"
      ],
      "text/plain": [
       "    user_id group is_purchase\n",
       "0  8e27bf9a     A          No\n",
       "1  eb89e6f0     A          No\n",
       "2  7119106a     A          No\n",
       "3  e53781ff     A          No\n",
       "4  02d48cf1     A         Yes"
      ]
     },
     "execution_count": 71,
     "metadata": {},
     "output_type": "execute_result"
    }
   ],
   "source": [
    "# Load the dataset\n",
    "abdata = pd.read_csv('clicks.csv')\n",
    "\n",
    "# Display the first few rows of the dataset\n",
    "abdata.head()"
   ]
  },
  {
   "cell_type": "markdown",
   "id": "5f6aa438",
   "metadata": {},
   "source": [
    "## Step 2: Creating a Contingency Table"
   ]
  },
  {
   "cell_type": "code",
   "execution_count": 74,
   "id": "f6bf1587",
   "metadata": {},
   "outputs": [
    {
     "data": {
      "text/html": [
       "<div>\n",
       "<style scoped>\n",
       "    .dataframe tbody tr th:only-of-type {\n",
       "        vertical-align: middle;\n",
       "    }\n",
       "\n",
       "    .dataframe tbody tr th {\n",
       "        vertical-align: top;\n",
       "    }\n",
       "\n",
       "    .dataframe thead th {\n",
       "        text-align: right;\n",
       "    }\n",
       "</style>\n",
       "<table border=\"1\" class=\"dataframe\">\n",
       "  <thead>\n",
       "    <tr style=\"text-align: right;\">\n",
       "      <th>is_purchase</th>\n",
       "      <th>No</th>\n",
       "      <th>Yes</th>\n",
       "    </tr>\n",
       "    <tr>\n",
       "      <th>group</th>\n",
       "      <th></th>\n",
       "      <th></th>\n",
       "    </tr>\n",
       "  </thead>\n",
       "  <tbody>\n",
       "    <tr>\n",
       "      <th>A</th>\n",
       "      <td>1350</td>\n",
       "      <td>316</td>\n",
       "    </tr>\n",
       "    <tr>\n",
       "      <th>B</th>\n",
       "      <td>1483</td>\n",
       "      <td>183</td>\n",
       "    </tr>\n",
       "    <tr>\n",
       "      <th>C</th>\n",
       "      <td>1583</td>\n",
       "      <td>83</td>\n",
       "    </tr>\n",
       "  </tbody>\n",
       "</table>\n",
       "</div>"
      ],
      "text/plain": [
       "is_purchase    No  Yes\n",
       "group                 \n",
       "A            1350  316\n",
       "B            1483  183\n",
       "C            1583   83"
      ]
     },
     "execution_count": 74,
     "metadata": {},
     "output_type": "execute_result"
    }
   ],
   "source": [
    "# Create a contingency table for group and is_purchase\n",
    "Xtab = pd.crosstab(abdata['group'], abdata['is_purchase'])\n",
    "\n",
    "# Display the contingency table\n",
    "Xtab"
   ]
  },
  {
   "cell_type": "markdown",
   "id": "bceca197",
   "metadata": {},
   "source": [
    "### Explanation of Results\r\n",
    "\r\n",
    "The contingency table shows the distribution of purchases across the three groups (A, B, C). Group A, corresponding to the **\\$0.99** price point, has the highest number of purchases (**316**), followed by Group B (**\\$1.99**) and Group C (**\\$4.99**). This suggests that a lower price might be more attractive, but further analysis is required.\r\n",
    ".\r\n"
   ]
  },
  {
   "cell_type": "markdown",
   "id": "c7d2b4f1",
   "metadata": {},
   "source": [
    "## Step 3: Performing the Chi-Square Test"
   ]
  },
  {
   "cell_type": "code",
   "execution_count": 78,
   "id": "16bf3365",
   "metadata": {},
   "outputs": [
    {
     "data": {
      "text/plain": [
       "2.4126213546684264e-35"
      ]
     },
     "execution_count": 78,
     "metadata": {},
     "output_type": "execute_result"
    }
   ],
   "source": [
    "# Perform Chi-Square test to see if there is a significant difference in purchase rates\n",
    "chi2, pval, dof, expected = chi2_contingency(Xtab)\n",
    "\n",
    "# Print the p-value\n",
    "pval"
   ]
  },
  {
   "cell_type": "markdown",
   "id": "e6fc7b57",
   "metadata": {},
   "source": [
    "### Explanation of Results\n",
    "The Chi-Square test is used to determine whether there is a statistically significant difference in purchase rates among the groups. The p-value is extremely low (close to zero), indicating a significant difference in purchase behavior between the groups."
   ]
  },
  {
   "cell_type": "markdown",
   "id": "38075fd2",
   "metadata": {},
   "source": [
    "## Step 4: Calculating the Number of Visitors"
   ]
  },
  {
   "cell_type": "code",
   "execution_count": 82,
   "id": "aad17286",
   "metadata": {},
   "outputs": [
    {
     "data": {
      "text/plain": [
       "4998"
      ]
     },
     "execution_count": 82,
     "metadata": {},
     "output_type": "execute_result"
    }
   ],
   "source": [
    "# Calculate the number of visitors\n",
    "num_visits = len(abdata)\n",
    "\n",
    "# Print the number of visitors\n",
    "num_visits"
   ]
  },
  {
   "cell_type": "markdown",
   "id": "89831b98",
   "metadata": {},
   "source": [
    "## Step 5: Calculating the Number of Sales Needed for Each Price Point"
   ]
  },
  {
   "cell_type": "code",
   "execution_count": 85,
   "id": "39ddf1cd",
   "metadata": {},
   "outputs": [
    {
     "data": {
      "text/plain": [
       "(1010.1010101010102, 502.51256281407035, 200.40080160320642)"
      ]
     },
     "execution_count": 85,
     "metadata": {},
     "output_type": "execute_result"
    }
   ],
   "source": [
    "# Calculate the number of sales needed to reach $1000 in revenue\n",
    "num_sales_needed_099 = 1000 / 0.99\n",
    "num_sales_needed_199 = 1000 / 1.99\n",
    "num_sales_needed_499 = 1000 / 4.99\n",
    "\n",
    "# Print the number of sales needed\n",
    "num_sales_needed_099, num_sales_needed_199, num_sales_needed_499"
   ]
  },
  {
   "cell_type": "markdown",
   "id": "ca03864d",
   "metadata": {},
   "source": [
    "## Step 6: Calculating the Proportion of Visits Needed to Meet the Revenue Target"
   ]
  },
  {
   "cell_type": "code",
   "execution_count": 88,
   "id": "7b51db4a",
   "metadata": {},
   "outputs": [
    {
     "data": {
      "text/plain": [
       "(0.20210104243717691, 0.10054272965467594, 0.040096198800161346)"
      ]
     },
     "execution_count": 88,
     "metadata": {},
     "output_type": "execute_result"
    }
   ],
   "source": [
    "# Calculate the proportion of visits needed to meet the revenue target\n",
    "p_sales_needed_099 = num_sales_needed_099 / num_visits\n",
    "p_sales_needed_199 = num_sales_needed_199 / num_visits\n",
    "p_sales_needed_499 = num_sales_needed_499 / num_visits\n",
    "\n",
    "# Print the proportions needed\n",
    "p_sales_needed_099, p_sales_needed_199, p_sales_needed_499"
   ]
  },
  {
   "cell_type": "markdown",
   "id": "745e529c",
   "metadata": {},
   "source": [
    "## Step 7: Calculating Sample Sizes and Number of Purchases for Each Group"
   ]
  },
  {
   "cell_type": "code",
   "execution_count": 91,
   "id": "9a8e4432",
   "metadata": {},
   "outputs": [
    {
     "data": {
      "text/plain": [
       "((1666, 316), (1666, 183), (1666, 83))"
      ]
     },
     "execution_count": 91,
     "metadata": {},
     "output_type": "execute_result"
    }
   ],
   "source": [
    "# Calculate the sample sizes and number of purchases for each group\n",
    "samp_size_099 = sum(abdata['group'] == 'A')\n",
    "sales_099 = sum((abdata['group'] == 'A') & (abdata['is_purchase'] == 'Yes'))\n",
    "\n",
    "samp_size_199 = sum(abdata['group'] == 'B')\n",
    "sales_199 = sum((abdata['group'] == 'B') & (abdata['is_purchase'] == 'Yes'))\n",
    "\n",
    "samp_size_499 = sum(abdata['group'] == 'C')\n",
    "sales_499 = sum((abdata['group'] == 'C') & (abdata['is_purchase'] == 'Yes'))\n",
    "\n",
    "# Print the sample sizes and number of purchases\n",
    "(samp_size_099, sales_099), (samp_size_199, sales_199), (samp_size_499, sales_499)"
   ]
  },
  {
   "cell_type": "markdown",
   "id": "1731a9a8",
   "metadata": {},
   "source": [
    "## Step 8: Performing Binomial Tests for Each Group"
   ]
  },
  {
   "cell_type": "code",
   "execution_count": 94,
   "id": "a45d864a",
   "metadata": {},
   "outputs": [
    {
     "data": {
      "text/plain": [
       "(0.9028081076188554, 0.11184562623740596, 0.027944826659830616)"
      ]
     },
     "execution_count": 94,
     "metadata": {},
     "output_type": "execute_result"
    }
   ],
   "source": [
    "# Perform binomial tests for each group\n",
    "pvalueA = binom_test(x=sales_099, n=samp_size_099, p=p_sales_needed_099, alternative='greater')\n",
    "pvalueB = binom_test(x=sales_199, n=samp_size_199, p=p_sales_needed_199, alternative='greater')\n",
    "pvalueC = binom_test(x=sales_499, n=samp_size_499, p=p_sales_needed_499, alternative='greater')\n",
    "\n",
    "# Print the p-values\n",
    "pvalueA, pvalueB, pvalueC"
   ]
  },
  {
   "cell_type": "markdown",
   "id": "da57f083",
   "metadata": {},
   "source": [
    "### Conclusion\r\n",
    "\r\n",
    "Based on the analysis:\r\n",
    "\r\n",
    "- The **\\$0.99** price point (Group A) did not meet the required threshold for generating \\$1000 in revenue.\r\n",
    "- The **\\$1.99** price point (Group B) also did not meet the required threshold.\r\n",
    "- The **\\$4.99** price point (Group C) had a purchase rate that significantly exceeded the threshold needed to meet the revenue target.\r\n",
    "\r\n",
    "Therefore, it is recommended that Brian should charge **\\$4.99** for the upgrade package to maximize revenue.\r\n"
   ]
  }
 ],
 "metadata": {
  "kernelspec": {
   "display_name": "Python 3 (ipykernel)",
   "language": "python",
   "name": "python3"
  },
  "language_info": {
   "codemirror_mode": {
    "name": "ipython",
    "version": 3
   },
   "file_extension": ".py",
   "mimetype": "text/x-python",
   "name": "python",
   "nbconvert_exporter": "python",
   "pygments_lexer": "ipython3",
   "version": "3.11.7"
  }
 },
 "nbformat": 4,
 "nbformat_minor": 5
}
