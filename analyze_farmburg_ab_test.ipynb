{
 "cells": [
  {
   "cell_type": "markdown",
   "id": "1f4b4531",
   "metadata": {},
   "source": [
    "# Farmburg A/B Test Analysis\n",
    "\n",
    "## Project Overview\n",
    "\n",
    "In this project, we analyze the results of an A/B test conducted by Farmburg, a farming simulation social network game. The primary objective is to determine the optimal price point for a new microtransaction feature by evaluating user purchase behavior across three different price points."
   ]
  },
  {
   "cell_type": "code",
   "execution_count": null,
   "id": "d19b0a42",
   "metadata": {},
   "outputs": [],
   "source": [
    "import pandas as pd\n",
    "from scipy.stats import chi2_contingency, binom_test"
   ]
  },
  {
   "cell_type": "markdown",
   "id": "1016966b",
   "metadata": {},
   "source": [
    "## Loading and Inspecting the Data"
   ]
  },
  {
   "cell_type": "code",
   "execution_count": null,
   "id": "8fe4f8b1",
   "metadata": {},
   "outputs": [],
   "source": [
    "# Load the dataset\n",
    "abdata = pd.read_csv('clicks.csv')\n",
    "\n",
    "# Display the first few rows of the dataset\n",
    "abdata.head()"
   ]
  },
  {
   "cell_type": "markdown",
   "id": "5f6aa438",
   "metadata": {},
   "source": [
    "## Step 2: Creating a Contingency Table"
   ]
  },
  {
   "cell_type": "code",
   "execution_count": null,
   "id": "f6bf1587",
   "metadata": {},
   "outputs": [],
   "source": [
    "# Create a contingency table for group and is_purchase\n",
    "Xtab = pd.crosstab(abdata['group'], abdata['is_purchase'])\n",
    "\n",
    "# Display the contingency table\n",
    "Xtab"
   ]
  },
  {
   "cell_type": "markdown",
   "id": "bceca197",
   "metadata": {},
   "source": [
    "### Explanation of Results\n",
    "The contingency table shows the distribution of purchases across the three groups (A, B, C). Group A, corresponding to the $0.99 price point, has the highest number of purchases (316), followed by Group B ($1.99) and Group C ($4.99). This suggests that a lower price might be more attractive, but further analysis is required."
   ]
  },
  {
   "cell_type": "markdown",
   "id": "c7d2b4f1",
   "metadata": {},
   "source": [
    "## Step 3: Performing the Chi-Square Test"
   ]
  },
  {
   "cell_type": "code",
   "execution_count": null,
   "id": "16bf3365",
   "metadata": {},
   "outputs": [],
   "source": [
    "# Perform Chi-Square test to see if there is a significant difference in purchase rates\n",
    "chi2, pval, dof, expected = chi2_contingency(Xtab)\n",
    "\n",
    "# Print the p-value\n",
    "pval"
   ]
  },
  {
   "cell_type": "markdown",
   "id": "e6fc7b57",
   "metadata": {},
   "source": [
    "### Explanation of Results\n",
    "The Chi-Square test is used to determine whether there is a statistically significant difference in purchase rates among the groups. The p-value is extremely low (close to zero), indicating a significant difference in purchase behavior between the groups."
   ]
  },
  {
   "cell_type": "markdown",
   "id": "38075fd2",
   "metadata": {},
   "source": [
    "## Step 4: Calculating the Number of Visitors"
   ]
  },
  {
   "cell_type": "code",
   "execution_count": null,
   "id": "aad17286",
   "metadata": {},
   "outputs": [],
   "source": [
    "# Calculate the number of visitors\n",
    "num_visits = len(abdata)\n",
    "\n",
    "# Print the number of visitors\n",
    "num_visits"
   ]
  },
  {
   "cell_type": "markdown",
   "id": "89831b98",
   "metadata": {},
   "source": [
    "## Step 5: Calculating the Number of Sales Needed for Each Price Point"
   ]
  },
  {
   "cell_type": "code",
   "execution_count": null,
   "id": "39ddf1cd",
   "metadata": {},
   "outputs": [],
   "source": [
    "# Calculate the number of sales needed to reach $1000 in revenue\n",
    "num_sales_needed_099 = 1000 / 0.99\n",
    "num_sales_needed_199 = 1000 / 1.99\n",
    "num_sales_needed_499 = 1000 / 4.99\n",
    "\n",
    "# Print the number of sales needed\n",
    "num_sales_needed_099, num_sales_needed_199, num_sales_needed_499"
   ]
  },
  {
   "cell_type": "markdown",
   "id": "ca03864d",
   "metadata": {},
   "source": [
    "## Step 6: Calculating the Proportion of Visits Needed to Meet the Revenue Target"
   ]
  },
  {
   "cell_type": "code",
   "execution_count": null,
   "id": "7b51db4a",
   "metadata": {},
   "outputs": [],
   "source": [
    "# Calculate the proportion of visits needed to meet the revenue target\n",
    "p_sales_needed_099 = num_sales_needed_099 / num_visits\n",
    "p_sales_needed_199 = num_sales_needed_199 / num_visits\n",
    "p_sales_needed_499 = num_sales_needed_499 / num_visits\n",
    "\n",
    "# Print the proportions needed\n",
    "p_sales_needed_099, p_sales_needed_199, p_sales_needed_499"
   ]
  },
  {
   "cell_type": "markdown",
   "id": "745e529c",
   "metadata": {},
   "source": [
    "## Step 7: Calculating Sample Sizes and Number of Purchases for Each Group"
   ]
  },
  {
   "cell_type": "code",
   "execution_count": null,
   "id": "9a8e4432",
   "metadata": {},
   "outputs": [],
   "source": [
    "# Calculate the sample sizes and number of purchases for each group\n",
    "samp_size_099 = sum(abdata['group'] == 'A')\n",
    "sales_099 = sum((abdata['group'] == 'A') & (abdata['is_purchase'] == 'Yes'))\n",
    "\n",
    "samp_size_199 = sum(abdata['group'] == 'B')\n",
    "sales_199 = sum((abdata['group'] == 'B') & (abdata['is_purchase'] == 'Yes'))\n",
    "\n",
    "samp_size_499 = sum(abdata['group'] == 'C')\n",
    "sales_499 = sum((abdata['group'] == 'C') & (abdata['is_purchase'] == 'Yes'))\n",
    "\n",
    "# Print the sample sizes and number of purchases\n",
    "(samp_size_099, sales_099), (samp_size_199, sales_199), (samp_size_499, sales_499)"
   ]
  },
  {
   "cell_type": "markdown",
   "id": "1731a9a8",
   "metadata": {},
   "source": [
    "## Step 8: Performing Binomial Tests for Each Group"
   ]
  },
  {
   "cell_type": "code",
   "execution_count": null,
   "id": "a45d864a",
   "metadata": {},
   "outputs": [],
   "source": [
    "# Perform binomial tests for each group\n",
    "pvalueA = binom_test(x=sales_099, n=samp_size_099, p=p_sales_needed_099, alternative='greater')\n",
    "pvalueB = binom_test(x=sales_199, n=samp_size_199, p=p_sales_needed_199, alternative='greater')\n",
    "pvalueC = binom_test(x=sales_499, n=samp_size_499, p=p_sales_needed_499, alternative='greater')\n",
    "\n",
    "# Print the p-values\n",
    "pvalueA, pvalueB, pvalueC"
   ]
  },
  {
   "cell_type": "markdown",
   "id": "da57f083",
   "metadata": {},
   "source": [
    "## Conclusion\n",
    "\n",
    "Based on the analysis:\n",
    "- The $0.99 price point (Group A) did not meet the required threshold for generating $1000 in revenue.\n",
    "- The $1.99 price point (Group B) also did not meet the required threshold.\n",
    "- The $4.99 price point (Group C) had a purchase rate that significantly exceeded the threshold needed to meet the revenue target.\n",
    "\n",
    "Therefore, it is recommended that Brian should charge $4.99 for the upgrade package to maximize revenue."
   ]
  }
 ],
 "metadata": {},
 "nbformat": 4,
 "nbformat_minor": 5
}
